{
  "nbformat": 4,
  "nbformat_minor": 0,
  "metadata": {
    "colab": {
      "provenance": [],
      "gpuType": "T4",
      "authorship_tag": "ABX9TyPCOMeNDKKMEDPdsiRYTCcr",
      "include_colab_link": true
    },
    "kernelspec": {
      "name": "python3",
      "display_name": "Python 3"
    },
    "language_info": {
      "name": "python"
    },
    "accelerator": "GPU"
  },
  "cells": [
    {
      "cell_type": "markdown",
      "metadata": {
        "id": "view-in-github",
        "colab_type": "text"
      },
      "source": [
        "<a href=\"https://colab.research.google.com/github/Sunil17120/Natural-language-processing-/blob/main/Sentiment_Analysis.ipynb\" target=\"_parent\"><img src=\"https://colab.research.google.com/assets/colab-badge.svg\" alt=\"Open In Colab\"/></a>"
      ]
    },
    {
      "cell_type": "code",
      "execution_count": null,
      "metadata": {
        "colab": {
          "base_uri": "https://localhost:8080/"
        },
        "id": "v6cNwtD7QkKm",
        "outputId": "4de8f641-19b2-44f3-d199-3e60e5e42528"
      },
      "outputs": [
        {
          "output_type": "stream",
          "name": "stdout",
          "text": [
            "Requirement already satisfied: vadersentiment in /usr/local/lib/python3.11/dist-packages (3.3.2)\n",
            "Requirement already satisfied: requests in /usr/local/lib/python3.11/dist-packages (from vadersentiment) (2.32.3)\n",
            "Requirement already satisfied: charset-normalizer<4,>=2 in /usr/local/lib/python3.11/dist-packages (from requests->vadersentiment) (3.4.1)\n",
            "Requirement already satisfied: idna<4,>=2.5 in /usr/local/lib/python3.11/dist-packages (from requests->vadersentiment) (3.10)\n",
            "Requirement already satisfied: urllib3<3,>=1.21.1 in /usr/local/lib/python3.11/dist-packages (from requests->vadersentiment) (2.3.0)\n",
            "Requirement already satisfied: certifi>=2017.4.17 in /usr/local/lib/python3.11/dist-packages (from requests->vadersentiment) (2025.1.31)\n"
          ]
        }
      ],
      "source": [
        "!pip install vadersentiment"
      ]
    },
    {
      "cell_type": "code",
      "source": [
        "from vaderSentiment.vaderSentiment import SentimentIntensityAnalyzer\n",
        "SIA = SentimentIntensityAnalyzer()"
      ],
      "metadata": {
        "id": "RzBVOWftSOok"
      },
      "execution_count": null,
      "outputs": []
    },
    {
      "cell_type": "code",
      "source": [
        "sample=\"I am very happy today.The atmosphere looks cheerful.The birds are happyand gay.The children are laughing and playing in the sunny aftternoon.\"\n",
        "print(SIA.polarity_scores(sample))"
      ],
      "metadata": {
        "colab": {
          "base_uri": "https://localhost:8080/"
        },
        "id": "RkwFXSVpSYfn",
        "outputId": "4c83e2c2-8973-4e36-9150-3e669975f9e9"
      },
      "execution_count": null,
      "outputs": [
        {
          "output_type": "stream",
          "name": "stdout",
          "text": [
            "{'neg': 0.0, 'neu': 0.59, 'pos': 0.41, 'compound': 0.8955}\n"
          ]
        }
      ]
    },
    {
      "cell_type": "code",
      "source": [
        "def getTextfromFile(fileName):\n",
        "  lines=[]\n",
        "  with(open(fileName)as f):\n",
        "    lines=f.readlines()\n",
        "  for i in range (len(lines)):\n",
        "    lines[i]=lines[i].replace('\\n','')\n",
        "  return lines\n",
        "inputData=getTextfromFile('sample_input.csv')\n",
        "truelabel=getTextfromFile('sample_output.csv')\n",
        "print(truelabel)"
      ],
      "metadata": {
        "colab": {
          "base_uri": "https://localhost:8080/"
        },
        "collapsed": true,
        "id": "TllcLfBxTWod",
        "outputId": "785508af-51aa-48b2-d7af-ec16b77cdf35"
      },
      "execution_count": null,
      "outputs": [
        {
          "output_type": "stream",
          "name": "stdout",
          "text": [
            "['4', '4', '5', '5', '5', '3', '5', '5', '4', '4', '5', '5', '5', '4', '5', '5', '4', '5', '5', '4']\n"
          ]
        }
      ]
    },
    {
      "cell_type": "code",
      "source": [
        "def predictSentiments(data):\n",
        "  predictions=[]\n",
        "  for line in data:\n",
        "    scores=SIA.polarity_scores(line)\n",
        "    if scores['compound']>=0.95:\n",
        "      predictions.append('5')\n",
        "    elif scores['compound']>=0.6:\n",
        "      predictions.append('4')\n",
        "    elif scores['compound']>=-0.6:\n",
        "      predictions.append('3')\n",
        "    elif scores['compound']>=-0.95:\n",
        "      predictions.append('2')\n",
        "    else:\n",
        "      predictions.append('1')\n",
        "  return predictions"
      ],
      "metadata": {
        "id": "m958UMMdUq-H"
      },
      "execution_count": null,
      "outputs": []
    },
    {
      "cell_type": "code",
      "source": [
        "predictions=predictSentiments(inputData)\n",
        "print(predictions)"
      ],
      "metadata": {
        "colab": {
          "base_uri": "https://localhost:8080/"
        },
        "id": "pLzrNCHPWplX",
        "outputId": "014fd576-6681-4e6b-ca7c-5281c8f13a33"
      },
      "execution_count": null,
      "outputs": [
        {
          "output_type": "stream",
          "name": "stdout",
          "text": [
            "['5', '4', '5', '3', '5', '4', '5', '5', '4', '2', '3', '5', '4', '4', '5', '3', '5', '5', '4', '4']\n"
          ]
        }
      ]
    },
    {
      "cell_type": "code",
      "source": [
        "from sklearn.metrics import accuracy_score,cohen_kappa_score\n",
        "print(\"Accuracy=\",accuracy_score(truelabel,predictions))\n",
        "print(\"Qwk=\",cohen_kappa_score(truelabel,predictions,weights='quadratic',labels=['1','2','3','4','5']))\n",
        "print(\"Kappa=\",cohen_kappa_score(truelabel,predictions,weights=None))"
      ],
      "metadata": {
        "colab": {
          "base_uri": "https://localhost:8080/"
        },
        "id": "fFMqaMX5XHIz",
        "outputId": "b1547f65-b82b-4817-ce0a-290d28214ea0"
      },
      "execution_count": null,
      "outputs": [
        {
          "output_type": "stream",
          "name": "stdout",
          "text": [
            "Accuracy= 0.55\n",
            "Qwk= 0.14634146341463405\n",
            "Kappa= 0.25\n"
          ]
        }
      ]
    },
    {
      "cell_type": "code",
      "source": [
        "trainX=inputData[:10]\n",
        "testX=inputData[10:]\n",
        "trainY=truelabel[:10]\n",
        "testY=truelabel[10:]"
      ],
      "metadata": {
        "id": "HLmGAQt1Ydd7"
      },
      "execution_count": null,
      "outputs": []
    },
    {
      "cell_type": "code",
      "source": [
        "from sklearn.naive_bayes import MultinomialNB\n",
        "from sklearn.feature_extraction.text import CountVectorizer\n",
        "vectorizer=CountVectorizer()\n",
        "trainXBow=vectorizer.fit_transform(trainX)\n",
        "testXBow=vectorizer.transform(testX)\n",
        "model=MultinomialNB()\n",
        "model.fit(trainXBow,trainY)\n",
        "Y=model.predict(testXBow)\n",
        "predY=[]\n",
        "for y in Y:\n",
        "  predY.append(str(y))\n"
      ],
      "metadata": {
        "id": "itTl0QncZDUp"
      },
      "execution_count": null,
      "outputs": []
    },
    {
      "cell_type": "code",
      "source": [
        "print(\"naive bayes accuracy=\",accuracy_score(testY,predY))\n",
        "print(\"naive bayes qwk=\",cohen_kappa_score(testY,predY,weights='quadratic',labels=['1','2','3','4','5']))\n",
        "print(\"naive bayes kappa=\",cohen_kappa_score(testY,predY,weights=None))"
      ],
      "metadata": {
        "colab": {
          "base_uri": "https://localhost:8080/"
        },
        "id": "XRETbc0Eayps",
        "outputId": "b1f71d11-b427-42a8-d7aa-74850b7fb852"
      },
      "execution_count": null,
      "outputs": [
        {
          "output_type": "stream",
          "name": "stdout",
          "text": [
            "naive bayes accuracy= 0.7\n",
            "naive bayes qwk= 0.34782608695652173\n",
            "naive bayes kappa= 0.34782608695652173\n"
          ]
        }
      ]
    }
  ]
}