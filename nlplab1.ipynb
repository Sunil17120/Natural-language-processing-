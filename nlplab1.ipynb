{
  "nbformat": 4,
  "nbformat_minor": 0,
  "metadata": {
    "colab": {
      "provenance": [],
      "authorship_tag": "ABX9TyMzPNYJAH5ACT4h4ZlU+cUp",
      "include_colab_link": true
    },
    "kernelspec": {
      "name": "python3",
      "display_name": "Python 3"
    },
    "language_info": {
      "name": "python"
    }
  },
  "cells": [
    {
      "cell_type": "markdown",
      "metadata": {
        "id": "view-in-github",
        "colab_type": "text"
      },
      "source": [
        "<a href=\"https://colab.research.google.com/github/Sunil17120/Natural-language-processing-/blob/main/nlplab1.ipynb\" target=\"_parent\"><img src=\"https://colab.research.google.com/assets/colab-badge.svg\" alt=\"Open In Colab\"/></a>"
      ]
    },
    {
      "cell_type": "code",
      "execution_count": 4,
      "metadata": {
        "colab": {
          "base_uri": "https://localhost:8080/"
        },
        "id": "LLkJKRB66Es-",
        "outputId": "4724a801-3307-4131-9978-9cd3fec3a8bb"
      },
      "outputs": [
        {
          "output_type": "stream",
          "name": "stdout",
          "text": [
            "File 'sample.txt' created successfully \n",
            "File 'sample.txt' Analysis\n",
            "Number of lines: 2\n",
            "Number of words: 115\n",
            "Number of characters: 719\n"
          ]
        }
      ],
      "source": [
        "def create_text_file(file_name,content):\n",
        "    with open(file_name,'w') as file:\n",
        "        file.write(content)\n",
        "    print(f\"File '{file_name}' created successfully \")\n",
        "def parse_text_file(file_name):\n",
        "    try:\n",
        "        with open(file_name,'r') as file:\n",
        "            lines=file.readlines()\n",
        "        line_count=len(lines)\n",
        "        word_count=sum(len(line.split())for line in lines)\n",
        "        char_count=sum(len(line)for line in lines)\n",
        "        print(f\"File '{file_name}' Analysis\")\n",
        "        print(f\"Number of lines: {line_count}\")\n",
        "        print(f\"Number of words: {word_count}\")\n",
        "        print(f\"Number of characters: {char_count}\")\n",
        "    except FileNotFoundError:\n",
        "        print(f\"Error: File'{file_name}'not found\")\n",
        "def main():\n",
        "    file_name=\"sample.txt\"\n",
        "    content=\"\"\"Republic Day is a national holiday in India commemorating the adoption of the Constitution of the Republic of India and the country's transition to a republic which came into effect on 26 January 1950. The original text of the Preamble to the Constitution of India.\n",
        "    Republic Day, celebrated on January 26th every year,   marks the day when the Constitution of India came into effect in 1950, signifying the nation's transition to a sovereign democratic republic; it is a day of immense pride and national unity, where people across the country commemorate the sacrifices of freedom fighters and the vision of the founding fathers who crafted the constitution, upholding the values of justice, equality, and liberty.\"\"\"\n",
        "    create_text_file(file_name,content)\n",
        "    parse_text_file(file_name)\n",
        "\n",
        "if __name__== \"__main__\":\n",
        "    main()"
      ]
    }
  ]
}