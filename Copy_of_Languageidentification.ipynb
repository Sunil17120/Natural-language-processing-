{
  "nbformat": 4,
  "nbformat_minor": 0,
  "metadata": {
    "colab": {
      "provenance": [],
      "authorship_tag": "ABX9TyMmYxNpkldgBbg2sgmkLaEP",
      "include_colab_link": true
    },
    "kernelspec": {
      "name": "python3",
      "display_name": "Python 3"
    },
    "language_info": {
      "name": "python"
    }
  },
  "cells": [
    {
      "cell_type": "markdown",
      "metadata": {
        "id": "view-in-github",
        "colab_type": "text"
      },
      "source": [
        "<a href=\"https://colab.research.google.com/github/Sunil17120/Natural-language-processing-/blob/main/Copy_of_Languageidentification.ipynb\" target=\"_parent\"><img src=\"https://colab.research.google.com/assets/colab-badge.svg\" alt=\"Open In Colab\"/></a>"
      ]
    },
    {
      "cell_type": "code",
      "execution_count": null,
      "metadata": {
        "id": "7LrPAJY6_Gsl"
      },
      "outputs": [],
      "source": [
        "import json\n",
        "with open('train.json','rb') as fp:\n",
        "  data=json.load(fp)"
      ]
    },
    {
      "cell_type": "code",
      "source": [
        "import pandas as pd\n",
        "from sklearn.feature_extraction.text import CountVectorizer\n",
        "from sklearn.model_selection import train_test_split\n",
        "from sklearn.naive_bayes import MultinomialNB\n",
        "from sklearn.metrics import accuracy_score,cohen_kappa_score\n",
        "\n",
        "\n"
      ],
      "metadata": {
        "id": "W5JLeuyU_pVH"
      },
      "execution_count": null,
      "outputs": []
    },
    {
      "cell_type": "code",
      "source": [
        "textList=[]\n",
        "labelList=[]\n",
        "for datapoint in data:\n",
        "  textList.append(datapoint['text'])\n",
        "  labelList.append(datapoint['langid'])\n",
        "pandaDictionary={'txt':textList,'lang':labelList}\n",
        "df=pd.DataFrame(pandaDictionary)"
      ],
      "metadata": {
        "id": "0tEXtNhCBdwC"
      },
      "execution_count": 6,
      "outputs": []
    },
    {
      "cell_type": "code",
      "source": [
        "x=df['txt']\n",
        "y=df['lang']\n",
        "\n",
        "print(\"dataset size per language:\")\n",
        "print(df['lang'].value_counts())"
      ],
      "metadata": {
        "id": "iT7lQz9DEvxY",
        "colab": {
          "base_uri": "https://localhost:8080/"
        },
        "outputId": "4e379c29-c96b-412a-fccc-33c301586545"
      },
      "execution_count": 7,
      "outputs": [
        {
          "output_type": "stream",
          "name": "stdout",
          "text": [
            "dataset size per language:\n",
            "lang\n",
            "en    315802\n",
            "fr     82377\n",
            "de     80961\n",
            "es     78510\n",
            "it     74531\n",
            "pt     73553\n",
            "sv     72795\n",
            "kn      3788\n",
            "bn      3602\n",
            "hi      3568\n",
            "ml      3561\n",
            "ta      3557\n",
            "mr      3398\n",
            "Name: count, dtype: int64\n"
          ]
        }
      ]
    },
    {
      "cell_type": "code",
      "source": [
        "vectorizer=CountVectorizer()\n",
        "x_bow=vectorizer.fit_transform(x)\n",
        "x_train,x_test,y_train,y_test=train_test_split(x_bow,y,test_size=0.2,random_state=42,stratify=y)"
      ],
      "metadata": {
        "id": "sIgDh_pIFOMo"
      },
      "execution_count": 8,
      "outputs": []
    },
    {
      "cell_type": "code",
      "source": [
        "model=MultinomialNB()\n",
        "model.fit(x_train,y_train)\n",
        "y_pred=model.predict(x_test)\n",
        "accuracy=accuracy_score(y_test,y_pred)\n",
        "print(\"accuracy:\",accuracy)\n",
        "print(\"kappa=\",cohen_kappa_score(y_test,y_pred))"
      ],
      "metadata": {
        "id": "eh0ZTcRhF7mp",
        "colab": {
          "base_uri": "https://localhost:8080/"
        },
        "outputId": "3ecca77f-5512-4ae2-a8cb-ed05525a3c7c"
      },
      "execution_count": 9,
      "outputs": [
        {
          "output_type": "stream",
          "name": "stdout",
          "text": [
            "accuracy: 0.9814626158586509\n",
            "kappa= 0.9764537665583596\n"
          ]
        }
      ]
    },
    {
      "cell_type": "code",
      "source": [],
      "metadata": {
        "id": "gHD5DthfHAzq"
      },
      "execution_count": null,
      "outputs": []
    },
    {
      "cell_type": "code",
      "source": [],
      "metadata": {
        "id": "MpJzAbMvHOa_"
      },
      "execution_count": null,
      "outputs": []
    }
  ]
}