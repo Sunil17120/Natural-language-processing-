{
  "nbformat": 4,
  "nbformat_minor": 0,
  "metadata": {
    "colab": {
      "provenance": [],
      "authorship_tag": "ABX9TyPoX/iEYxZogdxjrM+/UFMd",
      "include_colab_link": true
    },
    "kernelspec": {
      "name": "python3",
      "display_name": "Python 3"
    },
    "language_info": {
      "name": "python"
    }
  },
  "cells": [
    {
      "cell_type": "markdown",
      "metadata": {
        "id": "view-in-github",
        "colab_type": "text"
      },
      "source": [
        "<a href=\"https://colab.research.google.com/github/Sunil17120/Natural-language-processing-/blob/main/wordvectors.ipynb\" target=\"_parent\"><img src=\"https://colab.research.google.com/assets/colab-badge.svg\" alt=\"Open In Colab\"/></a>"
      ]
    },
    {
      "cell_type": "code",
      "execution_count": 1,
      "metadata": {
        "colab": {
          "base_uri": "https://localhost:8080/"
        },
        "id": "ucWRzGb99ELw",
        "outputId": "9b4f041a-4381-453f-b677-d9b7457fd247"
      },
      "outputs": [
        {
          "output_type": "stream",
          "name": "stdout",
          "text": [
            "Requirement already satisfied: numpy in /usr/local/lib/python3.11/dist-packages (1.26.4)\n",
            "Requirement already satisfied: gensim in /usr/local/lib/python3.11/dist-packages (4.3.3)\n",
            "Requirement already satisfied: numpy<2.0,>=1.18.5 in /usr/local/lib/python3.11/dist-packages (from gensim) (1.26.4)\n",
            "Requirement already satisfied: scipy<1.14.0,>=1.7.0 in /usr/local/lib/python3.11/dist-packages (from gensim) (1.13.1)\n",
            "Requirement already satisfied: smart-open>=1.8.1 in /usr/local/lib/python3.11/dist-packages (from gensim) (7.1.0)\n",
            "Requirement already satisfied: wrapt in /usr/local/lib/python3.11/dist-packages (from smart-open>=1.8.1->gensim) (1.17.2)\n"
          ]
        }
      ],
      "source": [
        "!pip install numpy\n",
        "!pip install gensim"
      ]
    },
    {
      "cell_type": "code",
      "source": [
        "import numpy as np\n",
        "import gensim\n",
        "import gensim.downloader\n",
        "import math"
      ],
      "metadata": {
        "id": "6Pk9SW-u9awN"
      },
      "execution_count": 2,
      "outputs": []
    },
    {
      "cell_type": "code",
      "source": [
        "modelname=\"glove-wiki-gigaword-300\"\n",
        "model=gensim.downloader.load(modelname)"
      ],
      "metadata": {
        "colab": {
          "base_uri": "https://localhost:8080/"
        },
        "id": "Hp2cfJKP9oL4",
        "outputId": "aba44395-717d-4238-befa-9e4eaad38190"
      },
      "execution_count": 3,
      "outputs": [
        {
          "output_type": "stream",
          "name": "stdout",
          "text": [
            "[==================================================] 100.0% 376.1/376.1MB downloaded\n"
          ]
        }
      ]
    },
    {
      "cell_type": "code",
      "source": [
        "def getWordVector(word):\n",
        "  return model[word]"
      ],
      "metadata": {
        "id": "1hUnO-yV93Zl"
      },
      "execution_count": 4,
      "outputs": []
    },
    {
      "cell_type": "code",
      "source": [
        "print(getWordVector(\"queen\"))"
      ],
      "metadata": {
        "colab": {
          "base_uri": "https://localhost:8080/"
        },
        "id": "aLra-zuS-wzB",
        "outputId": "708372c0-31e4-4772-dbb6-72a2f3a8081c"
      },
      "execution_count": 5,
      "outputs": [
        {
          "output_type": "stream",
          "name": "stdout",
          "text": [
            "[-2.2184e-01  6.4884e-02 -8.6365e-02  5.1279e-01  3.2543e-01 -1.2934e-01\n",
            "  8.3160e-02  9.1629e-02 -3.0858e-01 -9.4149e-01 -8.8608e-02 -1.0847e-01\n",
            "  2.1129e-01  7.0052e-01  2.6751e-01 -4.0477e-02  1.7364e-01 -3.0757e-01\n",
            " -5.2120e-02 -1.7512e-01 -8.4090e-01  1.9205e-01 -1.3806e-01  3.8520e-01\n",
            "  2.7247e-01 -1.7401e-01 -4.6626e-01 -2.4944e-02  9.6500e-02  3.0107e-01\n",
            "  1.8020e-01 -6.8892e-02 -2.0452e-01  3.5746e-01 -2.8313e-01  2.8063e-01\n",
            " -1.1503e-02  1.0674e-01 -2.4369e-01 -1.7907e-01 -1.3202e-01 -1.7021e-01\n",
            " -5.9409e-01  9.5749e-01  2.0384e-01 -4.2887e-02  6.0685e-01 -6.8825e-02\n",
            "  5.2273e-01 -5.4755e-01 -5.4525e-01  4.3453e-01  4.4516e-01 -2.5659e-02\n",
            " -1.1531e-01 -1.8587e-01  3.6080e-01 -2.5104e-01  7.2084e-01 -5.8240e-02\n",
            "  3.4400e-01  4.7188e-01  2.0461e-01  6.9993e-01  4.8738e-01 -9.0267e-01\n",
            " -1.0382e-01  1.2704e-01 -4.1078e-01  4.0384e-01  9.6410e-02  3.3173e-01\n",
            "  7.0018e-02 -1.9735e-01  1.5903e-01  9.7236e-02  5.5790e-01 -5.4857e-01\n",
            "  9.1887e-02  2.3397e-01  3.9486e-01 -1.0993e-01  1.0648e-01 -2.5844e-01\n",
            "  5.5624e-01 -5.3970e-01  1.0160e-01 -3.3093e-02  1.0949e-01 -4.4593e-01\n",
            "  2.2759e-01 -4.2394e-01  7.9741e-02 -4.3659e-01 -2.0300e-01 -4.2155e-01\n",
            "  5.2501e-01 -1.3325e-01 -4.7647e-02 -5.5514e-01  2.7313e-01 -3.6058e-01\n",
            "  3.9217e-01  6.3712e-02  1.9537e-01  4.2702e-01  5.9883e-02  1.0991e-01\n",
            "  4.9734e-02  2.8878e-01  2.8826e-01  6.8495e-01  4.1031e-01 -2.5327e-01\n",
            "  5.9437e-02 -1.7610e-01  8.5954e-02  1.6996e-01 -8.3400e-02 -5.7049e-01\n",
            " -7.1907e-01  7.0347e-01 -3.7878e-01 -4.7651e-01 -9.7319e-02  1.4046e-01\n",
            " -1.8743e-02 -1.4805e-01  4.8686e-01  4.4781e-01  5.7390e-01  5.4020e-01\n",
            " -1.3905e-01 -1.4129e-01  1.9411e-01 -8.7851e-03 -2.3293e-01  5.1349e-02\n",
            " -4.2881e-01  5.8398e-01  2.0918e-01  7.5124e-01 -6.6115e-01 -1.5127e-01\n",
            "  2.0170e-01 -5.4020e-01  4.1303e-01  3.6115e-01 -3.8199e-01 -3.8997e-01\n",
            "  1.5415e-01 -2.1134e-01 -5.6198e-01  5.1930e-01  2.2430e-01  5.5390e-01\n",
            "  5.7824e-02 -4.3428e-01  8.7064e-02 -5.5141e-01  5.8216e-01  8.2845e-01\n",
            "  5.0565e-01  1.4649e-01 -3.6045e-01  8.2490e-01 -2.5254e-01  6.6615e-01\n",
            "  3.2949e-01  3.8154e-01 -5.1031e-01  9.0783e-01 -6.7226e-02 -6.2108e-01\n",
            " -2.2863e-01  3.0936e-01 -2.1678e-01 -8.6860e-02 -2.7449e-01  2.1552e-01\n",
            " -1.7032e-01  3.6406e-01  3.9852e-01 -1.6566e-01  4.3411e-01 -4.0548e-01\n",
            " -1.9907e-01  5.3835e-01 -3.2752e-01 -7.6328e-01 -4.2558e-01 -1.0101e-01\n",
            " -3.4878e-01 -7.1560e-01 -5.3603e-02  5.1620e-01  5.3542e-02 -5.1026e-01\n",
            " -1.8184e-01 -3.6726e-01  1.8552e+00 -5.6669e-01 -2.9214e-01  2.7065e-01\n",
            "  5.1873e-01 -6.2641e-01  4.3802e-01  4.2792e-02  3.2292e-01 -1.9796e-01\n",
            " -1.5116e-01 -1.2337e-01  1.6066e-01 -2.7202e-01 -1.2558e-01 -2.0355e-01\n",
            " -1.3273e-02 -9.0037e-01 -3.6197e-02 -4.4949e-01  5.0578e-02 -2.2396e-01\n",
            "  2.8727e-01  4.4153e-01 -8.0729e-01  1.0861e-01 -8.0332e-04  6.4491e-02\n",
            "  1.1235e-02  5.3375e-01 -5.8540e-01  3.4119e-01 -6.8075e-02  1.0167e-01\n",
            "  4.0207e-02  3.3076e-01  1.0610e-01  3.8180e-01 -3.2353e-02  6.5516e-02\n",
            " -3.2452e-01  5.8150e-01  4.7800e-01  2.6177e-01 -2.2771e-01  4.5153e-01\n",
            " -4.2122e-01 -5.9730e-01  2.8305e-01  4.7875e-01 -1.9059e-01  1.5642e-01\n",
            "  2.2882e-01 -3.1700e-01  6.0575e-01 -4.3283e-01  3.3706e-01 -1.7907e-01\n",
            "  5.0241e-01 -7.7599e-01  8.3968e-02 -6.0968e-01  9.5526e-02  7.2448e-01\n",
            " -1.7796e-01  5.6241e-02 -2.9491e-01 -6.9536e-01  4.9126e-01  5.1395e-02\n",
            "  5.1029e-01 -4.2161e-01  4.2673e-01 -2.8271e-01  1.0129e-02  1.7145e-01\n",
            " -9.2244e-01 -3.1237e-01  2.4198e-01 -2.3070e-01  1.6144e-01  3.6125e-01\n",
            " -1.4644e-01 -2.0540e-01 -8.6869e-01  2.2820e-01 -2.9150e-01  5.0015e-01\n",
            " -1.5411e-01 -3.3083e-01  6.9766e-01 -2.8740e-01 -5.0032e-01  1.1975e-01\n",
            " -1.7529e-01 -3.1923e-01  1.9985e-01  2.5230e-01  1.7340e-01  6.3594e-01]\n"
          ]
        }
      ]
    },
    {
      "cell_type": "markdown",
      "source": [
        "\n",
        "\n",
        "\n",
        "\n"
      ],
      "metadata": {
        "id": "9yXqMQZ8-80T"
      }
    },
    {
      "cell_type": "code",
      "source": [
        "def getvectordotproduct(v1,v2):\n",
        "  return np.dot(v1,v2)"
      ],
      "metadata": {
        "id": "XPB-ybMq-5b0"
      },
      "execution_count": 7,
      "outputs": []
    },
    {
      "cell_type": "code",
      "source": [
        "def getwordvectordotproduct(w1,w2):\n",
        "  return getvectordotproduct(getWordVector(w1),getWordVector(w2))"
      ],
      "metadata": {
        "id": "p3V2c1UE_xtk"
      },
      "execution_count": 8,
      "outputs": []
    },
    {
      "cell_type": "code",
      "source": [
        "def getvectorlength(v):\n",
        "  return math.sqrt(getvectordotproduct(v,v))\n",
        ""
      ],
      "metadata": {
        "id": "UY7ir_qXAJJ0"
      },
      "execution_count": 9,
      "outputs": []
    },
    {
      "cell_type": "code",
      "source": [
        "def getwordvectorlength(w):\n",
        "  return getvectorlength(getWordVector(w))"
      ],
      "metadata": {
        "id": "S7xIUde0AXCg"
      },
      "execution_count": 10,
      "outputs": []
    },
    {
      "cell_type": "code",
      "source": [
        "def getvectorcosinesimilarity(v1,v2):\n",
        "  return getvectordotproduct(v1,v2)/(getvectorlength(v1)*getvectorlength(v2))"
      ],
      "metadata": {
        "id": "9FleaySwAitt"
      },
      "execution_count": 11,
      "outputs": []
    },
    {
      "cell_type": "code",
      "source": [
        "def getwordvectorcosinesimilarity(w1,w2):\n",
        "  return getvectorcosinesimilarity(getWordVector(w1),getWordVector(w2))"
      ],
      "metadata": {
        "id": "8K_M4Y3WCCUq"
      },
      "execution_count": 15,
      "outputs": []
    },
    {
      "cell_type": "code",
      "source": [
        "def getmostsimilarword(word):\n",
        "  return model.most_similar(word)"
      ],
      "metadata": {
        "id": "KrO3X_ZMCMSG"
      },
      "execution_count": 16,
      "outputs": []
    },
    {
      "cell_type": "code",
      "source": [
        "print(getmostsimilarword('queen')[0][0])"
      ],
      "metadata": {
        "colab": {
          "base_uri": "https://localhost:8080/"
        },
        "id": "d5kG2_p5CWyL",
        "outputId": "3cf4d11f-e2a4-4437-fc42-8fc73377e9b5"
      },
      "execution_count": 17,
      "outputs": [
        {
          "output_type": "stream",
          "name": "stdout",
          "text": [
            "elizabeth\n"
          ]
        }
      ]
    },
    {
      "cell_type": "code",
      "source": [
        "w1='man'\n",
        "w2='woman'\n",
        "print(getwordvectorcosinesimilarity(w1,w2))\n",
        "s1=getwordvectorcosinesimilarity('man','woman')\n",
        "s2=getwordvectorcosinesimilarity('men','women')\n",
        "d=abs(s1-s2)\n",
        "print(\"difference in similarity=\",d)"
      ],
      "metadata": {
        "colab": {
          "base_uri": "https://localhost:8080/"
        },
        "id": "DwDG5cIFCjyn",
        "outputId": "6349da96-f10a-4520-e064-c13e3e5802dd"
      },
      "execution_count": 18,
      "outputs": [
        {
          "output_type": "stream",
          "name": "stdout",
          "text": [
            "0.6998663836723149\n",
            "difference in similarity= 0.06582566577431781\n"
          ]
        }
      ]
    },
    {
      "cell_type": "code",
      "source": [
        "#word A:word B:word C:word D\n",
        "#D=C+B-A\n",
        "def completeAnalogy(wordA,wordB,wordC):\n",
        "  return model.most_similar(positive=[wordC,wordB],negative=[wordA],topn=1)"
      ],
      "metadata": {
        "id": "HzwNRjcpEhy3"
      },
      "execution_count": 19,
      "outputs": []
    },
    {
      "cell_type": "code",
      "source": [
        "print(completeAnalogy('man','woman','men')[0][0])"
      ],
      "metadata": {
        "colab": {
          "base_uri": "https://localhost:8080/"
        },
        "id": "QZ4BfPBQFhj9",
        "outputId": "e26b5abb-8424-4e72-b267-7c8471a3f641"
      },
      "execution_count": 20,
      "outputs": [
        {
          "output_type": "stream",
          "name": "stdout",
          "text": [
            "women\n"
          ]
        }
      ]
    },
    {
      "cell_type": "code",
      "source": [
        "def completeMCQAnalogy(wordA,wordB,wordC,optionA,optionB,optionC,optionD):\n",
        "  vectorx=getWordVector(wordC)+getWordVector(wordB)-getWordVector(wordA)\n",
        "  bestoption=optionA\n",
        "  bestsimilarity=getvectorcosinesimilarity(vectorx,getWordVector(optionA))\n",
        "  similarity=getvectorcosinesimilarity(vectorx,getWordVector(optionB))\n",
        "  if(similarity>bestsimilarity):\n",
        "    bestsimilarity=similarity\n",
        "    bestoption=optionB\n",
        "  similarity=getvectorcosinesimilarity(vectorx,getWordVector(optionC))\n",
        "  if(similarity>bestsimilarity):\n",
        "    bestsimilarity=similarity\n",
        "    bestoption=optionC\n",
        "  similarity=getvectorcosinesimilarity(vectorx,getWordVector(optionD))\n",
        "  if(similarity>bestsimilarity):\n",
        "    bestsimilarity=similarity\n",
        "    bestoption=optionD\n",
        "  return bestoption"
      ],
      "metadata": {
        "id": "AlRIafB9Fto3"
      },
      "execution_count": 25,
      "outputs": []
    },
    {
      "cell_type": "code",
      "source": [
        "print(completeMCQAnalogy('insect','disease','war','arsenal','defeat','army','destruction'))"
      ],
      "metadata": {
        "colab": {
          "base_uri": "https://localhost:8080/"
        },
        "id": "0-ZYkVGDIZDo",
        "outputId": "c2599e54-905d-4752-d1dd-0e6eb2b762ba"
      },
      "execution_count": 26,
      "outputs": [
        {
          "output_type": "stream",
          "name": "stdout",
          "text": [
            "army\n"
          ]
        }
      ]
    },
    {
      "cell_type": "code",
      "source": [
        "def completeMCQAnalogylist(wordA,WordB,WordC,options):\n",
        "  answervector=getWordVector(WordC)+getWordVector(WordB)-getWordVector(wordA)\n",
        "  bestoption=options[0]\n",
        "  bestsimilarity=getvectorcosinesimilarity((answervector),getWordVector(options[0]))\n",
        "  for i in range(0,len(options)):\n",
        "    similarity=getvectorcosinesimilarity((answervector),getWordVector(options[i]))\n",
        "    if(similarity>bestsimilarity):\n",
        "      bestsimilarity=similarity\n",
        "      bestoption=options[i]\n",
        "  return bestoption"
      ],
      "metadata": {
        "id": "hhXEP2s6Knj2"
      },
      "execution_count": 35,
      "outputs": []
    },
    {
      "cell_type": "code",
      "source": [
        "completeMCQAnalogylist('insect','disease','war',['arsenal','defeat','army','destruction','trench'])"
      ],
      "metadata": {
        "colab": {
          "base_uri": "https://localhost:8080/",
          "height": 36
        },
        "id": "vdn9afvlMdz3",
        "outputId": "48865292-616a-4795-fb0b-56f45d842f72"
      },
      "execution_count": 37,
      "outputs": [
        {
          "output_type": "execute_result",
          "data": {
            "text/plain": [
              "'army'"
            ],
            "application/vnd.google.colaboratory.intrinsic+json": {
              "type": "string"
            }
          },
          "metadata": {},
          "execution_count": 37
        }
      ]
    },
    {
      "cell_type": "code",
      "source": [],
      "metadata": {
        "id": "E6vdDcPTPI7n"
      },
      "execution_count": null,
      "outputs": []
    }
  ]
}